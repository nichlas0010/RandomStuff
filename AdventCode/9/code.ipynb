{
 "metadata": {
  "language_info": {
   "codemirror_mode": {
    "name": "ipython",
    "version": 3
   },
   "file_extension": ".py",
   "mimetype": "text/x-python",
   "name": "python",
   "nbconvert_exporter": "python",
   "pygments_lexer": "ipython3",
   "version": "3.8.5-final"
  },
  "orig_nbformat": 2,
  "kernelspec": {
   "name": "python3",
   "display_name": "Python 3"
  }
 },
 "nbformat": 4,
 "nbformat_minor": 2,
 "cells": [
  {
   "source": [
    "##Input Management"
   ],
   "cell_type": "markdown",
   "metadata": {}
  },
  {
   "cell_type": "code",
   "execution_count": 4,
   "metadata": {},
   "outputs": [],
   "source": [
    "f = open('input.txt')\n",
    "\n",
    "intArray = []\n",
    "\n",
    "for line in f:\n",
    "    intArray.append(int(line.strip()))\n",
    "\n",
    "f.close()"
   ]
  },
  {
   "source": [
    "##Part 1:"
   ],
   "cell_type": "markdown",
   "metadata": {}
  },
  {
   "cell_type": "code",
   "execution_count": 20,
   "metadata": {
    "tags": []
   },
   "outputs": [
    {
     "output_type": "stream",
     "name": "stdout",
     "text": [
      "258585477\n"
     ]
    }
   ],
   "source": [
    "def findOdd(preamble):\n",
    "    for l, i in enumerate(intArray[preamble:]):\n",
    "        hasFound = False\n",
    "        l += preamble\n",
    "        for j in intArray[l-preamble:l]:\n",
    "            for k in intArray[l-preamble:l]:\n",
    "                if j == k:\n",
    "                    continue\n",
    "                if j + k != i:\n",
    "                    continue\n",
    "                hasFound = True\n",
    "        if hasFound:\n",
    "            continue\n",
    "        else:\n",
    "            print(i)\n",
    "            break\n",
    "findOdd(25)"
   ]
  },
  {
   "source": [
    "##Part 2"
   ],
   "cell_type": "markdown",
   "metadata": {}
  },
  {
   "cell_type": "code",
   "execution_count": 30,
   "metadata": {
    "tags": []
   },
   "outputs": [
    {
     "output_type": "stream",
     "name": "stdout",
     "text": [
      "9455395 27525818\n"
     ]
    }
   ],
   "source": [
    "def findContiguous(num):\n",
    "    for i, j in enumerate(intArray):\n",
    "        x = 0\n",
    "        lowest = num\n",
    "        highest = 0\n",
    "        for l in intArray[i:]:\n",
    "            x += l\n",
    "            if l < lowest:\n",
    "                lowest = l\n",
    "            elif l > highest:\n",
    "                highest = l\n",
    "\n",
    "            if x == num:\n",
    "                break\n",
    "            elif x > num:\n",
    "                break\n",
    "        \n",
    "        if x == num:\n",
    "            print(lowest, highest)\n",
    "            break\n",
    "\n",
    "findContiguous(258585477)"
   ]
  },
  {
   "cell_type": "code",
   "execution_count": null,
   "metadata": {},
   "outputs": [],
   "source": []
  }
 ]
}
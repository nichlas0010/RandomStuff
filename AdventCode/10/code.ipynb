{
 "metadata": {
  "language_info": {
   "codemirror_mode": {
    "name": "ipython",
    "version": 3
   },
   "file_extension": ".py",
   "mimetype": "text/x-python",
   "name": "python",
   "nbconvert_exporter": "python",
   "pygments_lexer": "ipython3",
   "version": "3.8.5-final"
  },
  "orig_nbformat": 2,
  "kernelspec": {
   "name": "python3",
   "display_name": "Python 3"
  }
 },
 "nbformat": 4,
 "nbformat_minor": 2,
 "cells": [
  {
   "source": [
    "##Input Management"
   ],
   "cell_type": "markdown",
   "metadata": {}
  },
  {
   "cell_type": "code",
   "execution_count": 26,
   "metadata": {},
   "outputs": [],
   "source": [
    "f = open('input.txt')\n",
    "\n",
    "intArray = []\n",
    "\n",
    "for line in f:\n",
    "    line = line.strip()\n",
    "    intArray.append(int(line))\n",
    "\n",
    "f.close()"
   ]
  },
  {
   "source": [
    "##Part 1:"
   ],
   "cell_type": "markdown",
   "metadata": {}
  },
  {
   "cell_type": "code",
   "execution_count": 27,
   "metadata": {},
   "outputs": [
    {
     "output_type": "stream",
     "name": "stdout",
     "text": [
      "2450\n[1, 1, 1, 1, 3, 1, 1, 1, 1, 3, 3, 3, 1, 1, 1, 1, 3, 1, 1, 1, 1, 3, 3, 1, 1, 3, 1, 1, 1, 1, 3, 3, 3, 3, 3, 1, 1, 1, 3, 1, 1, 3, 3, 1, 1, 1, 1, 3, 3, 1, 1, 3, 3, 1, 1, 1, 1, 3, 1, 1, 1, 3, 1, 1, 3, 1, 1, 3, 1, 1, 3, 1, 1, 1, 1, 3, 1, 1, 1, 1, 3, 1, 1, 1, 3, 1, 1, 1, 1, 3, 3, 1, 1, 3, 1, 1, 3, 1, 1, 1, 1, 3, 3, 1, 3]\n"
     ]
    }
   ],
   "source": [
    "sortArray = sorted(intArray)\n",
    "leapArray = []\n",
    "ones = 0\n",
    "threes = 0\n",
    "lastnum = 0\n",
    "for i in sortArray:\n",
    "    if i == lastnum + 1:\n",
    "        ones += 1\n",
    "        leapArray.append(1)\n",
    "    if i == lastnum + 3:\n",
    "        threes += 1\n",
    "        leapArray.append(3)\n",
    "    lastnum = i\n",
    "threes += 1\n",
    "leapArray.append(3)\n",
    "print(ones*threes)\n",
    "print(leapArray)"
   ]
  },
  {
   "source": [
    "##Part 2"
   ],
   "cell_type": "markdown",
   "metadata": {}
  },
  {
   "cell_type": "code",
   "execution_count": 28,
   "metadata": {},
   "outputs": [
    {
     "output_type": "stream",
     "name": "stdout",
     "text": [
      "[4, 4, 4, 4, 2, 4, 3, 2, 4, 2, 4, 3, 2, 2, 2, 4, 4, 3, 4, 2, 2, 4, 1]\n32396521357312\n"
     ]
    }
   ],
   "source": [
    "sets = []\n",
    "has1 = 0\n",
    "for i in leapArray:\n",
    "    if i == 1:\n",
    "        has1 += 1\n",
    "    else:\n",
    "        if has1 > 0:\n",
    "            sets.append(has1)\n",
    "            has1 = 0\n",
    "print(sets)\n",
    "\n",
    "combinations = 1\n",
    "for i in sets:\n",
    "    if i == 2:\n",
    "        combinations *= 2\n",
    "    if i == 3:\n",
    "        combinations *= 4\n",
    "    if i == 4:\n",
    "        combinations *= 7\n",
    "print(combinations)\n",
    "        "
   ]
  },
  {
   "cell_type": "code",
   "execution_count": null,
   "metadata": {},
   "outputs": [],
   "source": []
  }
 ]
}
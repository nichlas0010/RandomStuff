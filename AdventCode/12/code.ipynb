{
 "metadata": {
  "language_info": {
   "codemirror_mode": {
    "name": "ipython",
    "version": 3
   },
   "file_extension": ".py",
   "mimetype": "text/x-python",
   "name": "python",
   "nbconvert_exporter": "python",
   "pygments_lexer": "ipython3",
   "version": "3.8.5-final"
  },
  "orig_nbformat": 2,
  "kernelspec": {
   "name": "python3",
   "display_name": "Python 3",
   "language": "python"
  }
 },
 "nbformat": 4,
 "nbformat_minor": 2,
 "cells": [
  {
   "source": [
    "##Input Management"
   ],
   "cell_type": "markdown",
   "metadata": {}
  },
  {
   "cell_type": "code",
   "execution_count": 11,
   "metadata": {},
   "outputs": [],
   "source": [
    "f = open('input.txt')\n",
    "\n",
    "instructionArray = []\n",
    "for line in f:\n",
    "    instructionArray.append(line.strip())\n",
    "\n",
    "f.close()"
   ]
  },
  {
   "source": [
    "##Part 1:"
   ],
   "cell_type": "markdown",
   "metadata": {}
  },
  {
   "cell_type": "code",
   "execution_count": 12,
   "metadata": {},
   "outputs": [
    {
     "output_type": "stream",
     "name": "stdout",
     "text": [
      "1482\n"
     ]
    }
   ],
   "source": [
    "currentDir = \"E\"\n",
    "# W/E\n",
    "horizontalDist = 0\n",
    "# N/S\n",
    "verticalDist = 0\n",
    "\n",
    "for instruction in instructionArray:\n",
    "    firstChar = instruction[0]\n",
    "    distance = int(instruction[1:])\n",
    "    dirs = [\"N\",\"E\",\"S\",\"W\"]\n",
    "    if firstChar in dirs:\n",
    "        if firstChar == \"N\":\n",
    "            verticalDist += distance\n",
    "        elif firstChar == \"S\":\n",
    "            verticalDist -= distance\n",
    "        elif firstChar == \"E\":\n",
    "            horizontalDist += distance\n",
    "        elif firstChar == \"W\":\n",
    "            horizontalDist -= distance\n",
    "    \n",
    "    else:\n",
    "        if firstChar == \"F\":\n",
    "            if currentDir == \"N\":\n",
    "                verticalDist += distance\n",
    "            elif currentDir == \"S\":\n",
    "                verticalDist -= distance\n",
    "            elif currentDir == \"E\":\n",
    "                horizontalDist += distance\n",
    "            elif currentDir == \"W\":\n",
    "                horizontalDist -= distance\n",
    "        else:\n",
    "            if firstChar == \"L\":\n",
    "                steps = distance/90\n",
    "                while steps > 0:\n",
    "                    steps -= 1\n",
    "                    if currentDir == \"N\":\n",
    "                        currentDir = \"W\"\n",
    "                    elif currentDir == \"S\":\n",
    "                        currentDir = \"E\"\n",
    "                    elif currentDir == \"E\":\n",
    "                        currentDir = \"N\"\n",
    "                    elif currentDir == \"W\":\n",
    "                        currentDir = \"S\"\n",
    "            elif firstChar == \"R\":\n",
    "                steps = distance/90\n",
    "                while steps > 0:\n",
    "                    steps -= 1\n",
    "                    if currentDir == \"N\":\n",
    "                        currentDir = \"E\"\n",
    "                    elif currentDir == \"S\":\n",
    "                        currentDir = \"W\"\n",
    "                    elif currentDir == \"E\":\n",
    "                        currentDir = \"S\"\n",
    "                    elif currentDir == \"W\":\n",
    "                        currentDir = \"N\"\n",
    "\n",
    "print(abs(horizontalDist)+abs(verticalDist))"
   ]
  },
  {
   "source": [
    "##Part 2"
   ],
   "cell_type": "markdown",
   "metadata": {}
  },
  {
   "cell_type": "code",
   "execution_count": 13,
   "metadata": {},
   "outputs": [
    {
     "output_type": "stream",
     "name": "stdout",
     "text": [
      "48739 1329 47410\n"
     ]
    }
   ],
   "source": [
    "# W/E\n",
    "horizontalDist = 0\n",
    "# N/S\n",
    "verticalDist = 0\n",
    "\n",
    "horizontalWaypoint = 10\n",
    "verticalWaypoint = 1\n",
    "\n",
    "for instruction in instructionArray:\n",
    "    firstChar = instruction[0]\n",
    "    distance = int(instruction[1:])\n",
    "    dirs = [\"N\",\"E\",\"S\",\"W\"]\n",
    "    if firstChar in dirs:\n",
    "        if firstChar == \"N\":\n",
    "            verticalWaypoint += distance\n",
    "        elif firstChar == \"S\":\n",
    "            verticalWaypoint -= distance\n",
    "        elif firstChar == \"E\":\n",
    "            horizontalWaypoint += distance\n",
    "        elif firstChar == \"W\":\n",
    "            horizontalWaypoint -= distance\n",
    "    \n",
    "    else:\n",
    "        if firstChar == \"F\":\n",
    "            horizontalDist += horizontalWaypoint*distance\n",
    "            verticalDist += verticalWaypoint*distance\n",
    "        else:\n",
    "            if firstChar == \"L\":\n",
    "                steps = distance/90\n",
    "                while steps > 0:\n",
    "                    steps -= 1\n",
    "                    horizontalCopy = horizontalWaypoint\n",
    "                    verticalCopy = verticalWaypoint\n",
    "                    \n",
    "                    horizontalWaypoint = 0 - verticalCopy\n",
    "                    verticalWaypoint = 0 + horizontalCopy\n",
    "\n",
    "\n",
    "            elif firstChar == \"R\":\n",
    "                steps = distance/90\n",
    "                while steps > 0:\n",
    "                    steps -= 1\n",
    "                    \n",
    "                    horizontalCopy = horizontalWaypoint\n",
    "                    verticalCopy = verticalWaypoint\n",
    "\n",
    "                    horizontalWaypoint = 0 + verticalCopy\n",
    "                    verticalWaypoint = 0 - horizontalCopy\n",
    "\n",
    "print(abs(horizontalDist)+abs(verticalDist), abs(horizontalDist), abs(verticalDist))"
   ]
  }
 ]
}
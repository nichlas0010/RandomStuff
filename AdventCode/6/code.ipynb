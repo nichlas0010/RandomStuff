{
 "metadata": {
  "language_info": {
   "codemirror_mode": {
    "name": "ipython",
    "version": 3
   },
   "file_extension": ".py",
   "mimetype": "text/x-python",
   "name": "python",
   "nbconvert_exporter": "python",
   "pygments_lexer": "ipython3",
   "version": "3.8.5-final"
  },
  "orig_nbformat": 2,
  "kernelspec": {
   "name": "python3",
   "display_name": "Python 3"
  }
 },
 "nbformat": 4,
 "nbformat_minor": 2,
 "cells": [
  {
   "source": [
    "##Input Management"
   ],
   "cell_type": "markdown",
   "metadata": {}
  },
  {
   "cell_type": "code",
   "execution_count": 28,
   "metadata": {},
   "outputs": [],
   "source": [
    "f = open('input.txt')\n",
    "listOfSets = []\n",
    "currentSet = set()\n",
    "listOfDicts = []\n",
    "currentDict = {\"list\":[], \"count\":0}\n",
    "for line in f:\n",
    "    if line == \"\\n\":\n",
    "        listOfSets.append(currentSet)\n",
    "        currentSet = set()\n",
    "        listOfDicts.append(currentDict)\n",
    "        currentDict = {\"list\":[], \"count\":0}\n",
    "        continue\n",
    "\n",
    "    for character in line.strip():\n",
    "        currentSet.add(character)\n",
    "        currentDict[\"list\"].append(character)\n",
    "    currentDict[\"count\"] += 1\n",
    "\n",
    "f.close()"
   ]
  },
  {
   "source": [
    "##Part 1:"
   ],
   "cell_type": "markdown",
   "metadata": {}
  },
  {
   "cell_type": "code",
   "execution_count": 29,
   "metadata": {
    "tags": []
   },
   "outputs": [
    {
     "output_type": "stream",
     "name": "stdout",
     "text": [
      "6443\n"
     ]
    }
   ],
   "source": [
    "length = 0\n",
    "for s in listOfSets:\n",
    "    length += len(s)\n",
    "\n",
    "print(length)"
   ]
  },
  {
   "source": [
    "##Part 2"
   ],
   "cell_type": "markdown",
   "metadata": {}
  },
  {
   "cell_type": "code",
   "execution_count": 30,
   "metadata": {},
   "outputs": [
    {
     "output_type": "stream",
     "name": "stdout",
     "text": [
      "3232\n"
     ]
    }
   ],
   "source": [
    "import string\n",
    "\n",
    "length = 0\n",
    "for Dict in listOfDicts:\n",
    "    for character in string.ascii_lowercase:\n",
    "        if Dict[\"list\"].count(character) >= Dict[\"count\"]:\n",
    "            length += 1\n",
    "\n",
    "print(length)"
   ]
  }
 ]
}
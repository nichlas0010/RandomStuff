{
 "metadata": {
  "language_info": {
   "codemirror_mode": {
    "name": "ipython",
    "version": 3
   },
   "file_extension": ".py",
   "mimetype": "text/x-python",
   "name": "python",
   "nbconvert_exporter": "python",
   "pygments_lexer": "ipython3",
   "version": "3.8.5-final"
  },
  "orig_nbformat": 2,
  "kernelspec": {
   "name": "python3",
   "display_name": "Python 3"
  }
 },
 "nbformat": 4,
 "nbformat_minor": 2,
 "cells": [
  {
   "source": [
    "##Input Management"
   ],
   "cell_type": "markdown",
   "metadata": {}
  },
  {
   "cell_type": "code",
   "execution_count": 32,
   "metadata": {},
   "outputs": [],
   "source": [
    "f = open('input.txt')\n",
    "\n",
    "stringArray = []\n",
    "\n",
    "for line in f:\n",
    "    stringArray.append(line.strip())\n",
    "\n",
    "f.close()"
   ]
  },
  {
   "source": [
    "##Part 1:"
   ],
   "cell_type": "markdown",
   "metadata": {}
  },
  {
   "cell_type": "code",
   "execution_count": 45,
   "metadata": {},
   "outputs": [
    {
     "output_type": "execute_result",
     "data": {
      "text/plain": [
       "184"
      ]
     },
     "metadata": {},
     "execution_count": 45
    }
   ],
   "source": [
    "\n",
    "def calculate(xIncrease, yIncrease):\n",
    "    trees = 0\n",
    "    x = 0\n",
    "    y = 0\n",
    "    while y < len(stringArray) - yIncrease:\n",
    "        x += xIncrease\n",
    "        y += yIncrease\n",
    "        if x > 30:\n",
    "            x -= 31\n",
    "        if stringArray[y][x] != \".\":\n",
    "            trees += 1\n",
    "\n",
    "    return trees\n",
    "\n",
    "calculate(3, 1)"
   ]
  },
  {
   "source": [
    "##Part 2"
   ],
   "cell_type": "markdown",
   "metadata": {}
  },
  {
   "cell_type": "code",
   "execution_count": 47,
   "metadata": {},
   "outputs": [],
   "source": [
    "x = calculate(1, 1)\n",
    "x *= calculate(3, 1)\n",
    "x *= calculate(5, 1)\n",
    "x *= calculate(7, 1)\n",
    "x *= calculate(1, 2)\n",
    "print(x)"
   ]
  },
  {
   "cell_type": "code",
   "execution_count": null,
   "metadata": {},
   "outputs": [],
   "source": []
  }
 ]
}
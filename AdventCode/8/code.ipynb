{
 "metadata": {
  "language_info": {
   "codemirror_mode": {
    "name": "ipython",
    "version": 3
   },
   "file_extension": ".py",
   "mimetype": "text/x-python",
   "name": "python",
   "nbconvert_exporter": "python",
   "pygments_lexer": "ipython3",
   "version": "3.8.5-final"
  },
  "orig_nbformat": 2,
  "kernelspec": {
   "name": "python3",
   "display_name": "Python 3"
  }
 },
 "nbformat": 4,
 "nbformat_minor": 2,
 "cells": [
  {
   "source": [
    "##Input Management"
   ],
   "cell_type": "markdown",
   "metadata": {}
  },
  {
   "cell_type": "code",
   "execution_count": 24,
   "metadata": {},
   "outputs": [],
   "source": [
    "f = open('input.txt')\n",
    "\n",
    "instructionArray = []\n",
    "\n",
    "for line in f:\n",
    "    line = line.strip()\n",
    "\n",
    "    instructionArray.append(line)\n",
    "\n",
    "f.close()"
   ]
  },
  {
   "source": [
    "##Part 1:"
   ],
   "cell_type": "markdown",
   "metadata": {}
  },
  {
   "cell_type": "code",
   "execution_count": 13,
   "metadata": {},
   "outputs": [
    {
     "output_type": "stream",
     "name": "stdout",
     "text": [
      "1610\n"
     ]
    }
   ],
   "source": [
    "instruct = 0\n",
    "acc = 0\n",
    "instructions = []\n",
    "while True:\n",
    "    instruction = instructionArray[instruct].split(\" \")[0]\n",
    "    value = instructionArray[instruct].split(\" \")[1]\n",
    "    if instruct in instructions:\n",
    "        print(acc)\n",
    "        break\n",
    "\n",
    "    instructions.append(instruct)\n",
    "\n",
    "    if instruction == \"jmp\":\n",
    "        jmpvalue = int(value.replace(\"+\", \"\").replace(\"-\", \"\"))\n",
    "        if \"+\" in value:\n",
    "            instruct += jmpvalue\n",
    "        elif \"-\" in value:\n",
    "            instruct -= jmpvalue\n",
    "        continue\n",
    "    \n",
    "    if instruction == \"acc\":\n",
    "        accvalue = int(value.replace(\"+\", \"\").replace(\"-\", \"\"))\n",
    "        if \"+\" in value:\n",
    "            acc += accvalue\n",
    "        elif \"-\" in value:\n",
    "            acc -= accvalue\n",
    "    \n",
    "    instruct += 1\n"
   ]
  },
  {
   "source": [
    "##Part 2"
   ],
   "cell_type": "markdown",
   "metadata": {}
  },
  {
   "cell_type": "code",
   "execution_count": 25,
   "metadata": {},
   "outputs": [
    {
     "output_type": "stream",
     "name": "stdout",
     "text": [
      "1703\n"
     ]
    }
   ],
   "source": [
    "def check():\n",
    "    instruct = 0\n",
    "    acc = 0\n",
    "    instructions = []\n",
    "    while True:\n",
    "\n",
    "        if instruct >= len(instructionArray):\n",
    "            print(acc)\n",
    "            return True\n",
    "\n",
    "        instruction = instructionArray[instruct].split(\" \")[0]\n",
    "        value = instructionArray[instruct].split(\" \")[1]\n",
    "        if instruct in instructions:\n",
    "            return False\n",
    "\n",
    "        instructions.append(instruct)\n",
    "\n",
    "        if instruction == \"jmp\":\n",
    "            jmpvalue = int(value.replace(\"+\", \"\").replace(\"-\", \"\"))\n",
    "            if \"+\" in value:\n",
    "                instruct += jmpvalue\n",
    "            elif \"-\" in value:\n",
    "                instruct -= jmpvalue\n",
    "            continue\n",
    "        \n",
    "        if instruction == \"acc\":\n",
    "            accvalue = int(value.replace(\"+\", \"\").replace(\"-\", \"\"))\n",
    "            if \"+\" in value:\n",
    "                acc += accvalue\n",
    "            elif \"-\" in value:\n",
    "                acc -= accvalue\n",
    "        \n",
    "        instruct += 1\n",
    "\n",
    "for i, instruction in enumerate(instructionArray):\n",
    "    if \"jmp\" in instruction:\n",
    "        instructionArray[i] = instruction.replace(\"jmp\", \"nop\")\n",
    "        if check():\n",
    "            break\n",
    "        instructionArray[i] = instruction\n",
    "    elif \"nop\" in instruction:\n",
    "        instructionArray[i] = instruction.replace(\"nop\", \"jmp\")\n",
    "        if check():\n",
    "            break\n",
    "        instructionArray[i] = instruction"
   ]
  },
  {
   "cell_type": "code",
   "execution_count": null,
   "metadata": {},
   "outputs": [],
   "source": []
  }
 ]
}
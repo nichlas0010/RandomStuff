{
 "metadata": {
  "language_info": {
   "codemirror_mode": {
    "name": "ipython",
    "version": 3
   },
   "file_extension": ".py",
   "mimetype": "text/x-python",
   "name": "python",
   "nbconvert_exporter": "python",
   "pygments_lexer": "ipython3",
   "version": "3.8.5-final"
  },
  "orig_nbformat": 2,
  "kernelspec": {
   "name": "python3",
   "display_name": "Python 3"
  }
 },
 "nbformat": 4,
 "nbformat_minor": 2,
 "cells": [
  {
   "source": [
    "##Input Management"
   ],
   "cell_type": "markdown",
   "metadata": {}
  },
  {
   "cell_type": "code",
   "execution_count": 2,
   "metadata": {},
   "outputs": [],
   "source": [
    "import re\n",
    "f = open('input.txt')\n",
    "\n",
    "stringDict = {}\n",
    "i = 0\n",
    "for line in f:\n",
    "    if line == \"\\n\":\n",
    "        i += 1\n",
    "        continue\n",
    "\n",
    "    currentDict = stringDict.setdefault(str(i), {})\n",
    "    for pair in line.split(\" \"):\n",
    "        currentDict[re.sub(\"\\s\", \"\", pair.split(\":\")[0])] = re.sub(\"\\s\", \"\", pair.split(\":\")[1])\n",
    "\n",
    "f.close()"
   ]
  },
  {
   "source": [
    "##Part 1:"
   ],
   "cell_type": "markdown",
   "metadata": {}
  },
  {
   "cell_type": "code",
   "execution_count": 37,
   "metadata": {},
   "outputs": [
    {
     "output_type": "stream",
     "name": "stdout",
     "text": [
      "219\n"
     ]
    }
   ],
   "source": [
    "valid = 0\n",
    "for dictionary in stringDict.values():\n",
    "    if len(dictionary) == 8 or (len(dictionary) == 7 and dictionary.get(\"cid\", 0) == 0):\n",
    "        valid += 1\n",
    "\n",
    "print(valid)"
   ]
  },
  {
   "source": [
    "##Part 2"
   ],
   "cell_type": "markdown",
   "metadata": {}
  },
  {
   "cell_type": "code",
   "execution_count": 13,
   "metadata": {},
   "outputs": [
    {
     "output_type": "stream",
     "name": "stdout",
     "text": [
      "127\n"
     ]
    }
   ],
   "source": [
    "valid = 0\n",
    "for dictionary in stringDict.values():\n",
    "    if int(dictionary.get(\"byr\", 0)) < 1920 or int(dictionary.get(\"byr\", 0)) > 2002:\n",
    "        continue\n",
    "\n",
    "    if int(dictionary.get(\"iyr\", 0)) < 2010 or int(dictionary.get(\"iyr\", 0)) > 2020:\n",
    "        continue\n",
    "    \n",
    "    if int(dictionary.get(\"eyr\", 0)) < 2020 or int(dictionary.get(\"eyr\", 0)) > 2030:\n",
    "        continue\n",
    "\n",
    "    height = dictionary.get(\"hgt\", \"lmao\")\n",
    "    if \"cm\" in height:\n",
    "        height = int(height.replace(\"cm\", \"\"))\n",
    "        if height < 150 or height > 193:\n",
    "            continue\n",
    "    elif \"in\" in height:\n",
    "        height = int(height.replace(\"in\", \"\"))\n",
    "        if height < 59 or height > 76:\n",
    "            continue\n",
    "    else:\n",
    "        continue\n",
    "\n",
    "    hcl = dictionary.get(\"hcl\", \"lmao\")\n",
    "    if hcl[0] != \"#\" or len(hcl) != 7:\n",
    "        continue\n",
    "    for character in hcl[1:]:\n",
    "        good = [\"0\", \"1\", \"2\", \"3\", \"4\", \"5\", \"6\", \"7\", \"8\", \"9\", \"a\", \"b\", \"c\", \"d\", \"e\", \"f\"]\n",
    "        if not(character in good):\n",
    "            continue\n",
    "    \n",
    "    ecl = dictionary.get(\"ecl\")\n",
    "    good = [\"amb\", \"blu\", \"brn\", \"gry\", \"grn\", \"hzl\", \"oth\"]\n",
    "    if not(ecl in good):\n",
    "        continue\n",
    "\n",
    "    if len(dictionary.get(\"pid\", \"0\")) != 9:\n",
    "        continue\n",
    "\n",
    "    valid += 1\n",
    "\n",
    "print(valid)\n"
   ]
  }
 ]
}
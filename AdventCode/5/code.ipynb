{
 "metadata": {
  "language_info": {
   "codemirror_mode": {
    "name": "ipython",
    "version": 3
   },
   "file_extension": ".py",
   "mimetype": "text/x-python",
   "name": "python",
   "nbconvert_exporter": "python",
   "pygments_lexer": "ipython3",
   "version": "3.8.5-final"
  },
  "orig_nbformat": 2,
  "kernelspec": {
   "name": "python3",
   "display_name": "Python 3"
  }
 },
 "nbformat": 4,
 "nbformat_minor": 2,
 "cells": [
  {
   "source": [
    "##Input Management"
   ],
   "cell_type": "markdown",
   "metadata": {}
  },
  {
   "cell_type": "code",
   "execution_count": 17,
   "metadata": {},
   "outputs": [],
   "source": [
    "f = open('input.txt')\n",
    "stringArray = []\n",
    "\n",
    "for line in f:\n",
    "    stringArray.append(line[:10])\n",
    "    \n",
    "f.close()"
   ]
  },
  {
   "source": [
    "##Part 1:"
   ],
   "cell_type": "markdown",
   "metadata": {}
  },
  {
   "cell_type": "code",
   "execution_count": 19,
   "metadata": {},
   "outputs": [
    {
     "output_type": "stream",
     "name": "stdout",
     "text": [
      "915\n"
     ]
    }
   ],
   "source": [
    "import math\n",
    "highestID = 0\n",
    "IDs = []\n",
    "for line in stringArray:\n",
    "    row = 0\n",
    "\n",
    "    if line[0] == \"B\":\n",
    "        row += 64\n",
    "    if line[1] == \"B\":\n",
    "        row += 32\n",
    "    if line[2] == \"B\":\n",
    "        row += 16\n",
    "    if line[3] == \"B\":\n",
    "        row += 8\n",
    "    if line[4] == \"B\":\n",
    "        row += 4\n",
    "    if line[5] == \"B\":\n",
    "        row += 2\n",
    "    if line[6] == \"B\":\n",
    "        row += 1\n",
    "    \n",
    "    column = 0\n",
    "\n",
    "    if line[7] == \"R\":\n",
    "        column += 4\n",
    "    if line[8] == \"R\":\n",
    "        column += 2\n",
    "    if line[9] == \"R\":\n",
    "        column += 1\n",
    "\n",
    "    seatID = row*8 + column\n",
    "\n",
    "    if seatID > highestID:\n",
    "        highestID = seatID\n",
    "\n",
    "    IDs.append(seatID)\n",
    "\n",
    "print(highestID)"
   ]
  },
  {
   "source": [
    "##Part 2"
   ],
   "cell_type": "markdown",
   "metadata": {}
  },
  {
   "cell_type": "code",
   "execution_count": 21,
   "metadata": {},
   "outputs": [
    {
     "output_type": "stream",
     "name": "stdout",
     "text": [
      "699\n"
     ]
    }
   ],
   "source": [
    "for i in range(9, 1016):\n",
    "    if not(i in IDs) and i-1 in IDs and i+1 in IDs:\n",
    "        print(i)"
   ]
  },
  {
   "cell_type": "code",
   "execution_count": null,
   "metadata": {},
   "outputs": [],
   "source": []
  }
 ]
}
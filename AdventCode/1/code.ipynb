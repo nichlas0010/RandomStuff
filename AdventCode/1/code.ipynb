{
 "metadata": {
  "language_info": {
   "codemirror_mode": {
    "name": "ipython",
    "version": 3
   },
   "file_extension": ".py",
   "mimetype": "text/x-python",
   "name": "python",
   "nbconvert_exporter": "python",
   "pygments_lexer": "ipython3",
   "version": "3.8.5-final"
  },
  "orig_nbformat": 2,
  "kernelspec": {
   "name": "python3",
   "display_name": "Python 3"
  }
 },
 "nbformat": 4,
 "nbformat_minor": 2,
 "cells": [
  {
   "source": [
    "##Input Management"
   ],
   "cell_type": "markdown",
   "metadata": {}
  },
  {
   "cell_type": "code",
   "execution_count": 2,
   "metadata": {},
   "outputs": [],
   "source": [
    "f = open('input.txt')\n",
    "\n",
    "numberArray = []\n",
    "\n",
    "for line in f:\n",
    "    numberArray.append(int(line))\n",
    "\n",
    "f.close()"
   ]
  },
  {
   "source": [
    "##Part 1:"
   ],
   "cell_type": "markdown",
   "metadata": {}
  },
  {
   "cell_type": "code",
   "execution_count": 3,
   "metadata": {},
   "outputs": [
    {
     "output_type": "stream",
     "name": "stdout",
     "text": [
      "211899\n"
     ]
    }
   ],
   "source": [
    "for i, j in enumerate(numberArray):\n",
    "    for k in numberArray[i+1:]:\n",
    "        if k + j == 2020:\n",
    "            print(k*j)"
   ]
  },
  {
   "source": [
    "##Part 2:"
   ],
   "cell_type": "markdown",
   "metadata": {}
  },
  {
   "cell_type": "code",
   "execution_count": 7,
   "metadata": {},
   "outputs": [
    {
     "output_type": "stream",
     "name": "stdout",
     "text": [
      "275765682\n",
      "275765682\n",
      "275765682\n",
      "275765682\n",
      "275765682\n",
      "275765682\n"
     ]
    }
   ],
   "source": [
    "for j in numberArray:\n",
    "    for l in numberArray:\n",
    "        for m in numberArray:\n",
    "            if m + l + j == 2020:\n",
    "                print(m*l*j)"
   ]
  },
  {
   "cell_type": "code",
   "execution_count": null,
   "metadata": {},
   "outputs": [],
   "source": []
  }
 ]
}
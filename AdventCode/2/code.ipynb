{
 "metadata": {
  "language_info": {
   "codemirror_mode": {
    "name": "ipython",
    "version": 3
   },
   "file_extension": ".py",
   "mimetype": "text/x-python",
   "name": "python",
   "nbconvert_exporter": "python",
   "pygments_lexer": "ipython3",
   "version": "3.8.5-final"
  },
  "orig_nbformat": 2,
  "kernelspec": {
   "name": "python3",
   "display_name": "Python 3"
  }
 },
 "nbformat": 4,
 "nbformat_minor": 2,
 "cells": [
  {
   "source": [
    "##Input Management"
   ],
   "cell_type": "markdown",
   "metadata": {}
  },
  {
   "cell_type": "code",
   "execution_count": 1,
   "metadata": {},
   "outputs": [],
   "source": [
    "f = open('input.txt')\n",
    "stringArray = []\n",
    "\n",
    "for line in f:\n",
    "    stringArray.append(line)\n",
    "\n",
    "f.close()"
   ]
  },
  {
   "source": [
    "##Part 1:"
   ],
   "cell_type": "markdown",
   "metadata": {}
  },
  {
   "cell_type": "code",
   "execution_count": 4,
   "metadata": {},
   "outputs": [
    {
     "output_type": "stream",
     "name": "stdout",
     "text": [
      "560\n"
     ]
    }
   ],
   "source": [
    "count = 0\n",
    "\n",
    "for line in stringArray:\n",
    "    numbers = line.split(\" \")[0]\n",
    "    low = numbers.split(\"-\")[0]\n",
    "    high = numbers.split(\"-\")[1]\n",
    "\n",
    "    toFind = line.split(\" \")[1].replace(\":\",\"\")\n",
    "\n",
    "    \n",
    "    if line.split(\" \")[2].count(toFind) <= int(high) and line.split(\" \")[2].count(toFind) >= int(low):\n",
    "        count += 1\n",
    "print(count)"
   ]
  },
  {
   "source": [
    "##Part 2"
   ],
   "cell_type": "markdown",
   "metadata": {}
  },
  {
   "cell_type": "code",
   "execution_count": 16,
   "metadata": {},
   "outputs": [
    {
     "output_type": "stream",
     "name": "stdout",
     "text": [
      "303\n"
     ]
    }
   ],
   "source": [
    "count = 0\n",
    "\n",
    "for line in stringArray:\n",
    "    numbers = line.split(\" \")[0]\n",
    "    low = int(numbers.split(\"-\")[0])\n",
    "    high = int(numbers.split(\"-\")[1])\n",
    "\n",
    "    toFind = line.split(\" \")[1].replace(\":\",\"\")\n",
    "\n",
    "    foundLow = line.split(\" \")[2][low-1] == toFind\n",
    "    foundHigh = line.split(\" \")[2][high-1] == toFind\n",
    "\n",
    "    \n",
    "    if (foundLow or foundHigh) and foundLow != foundHigh:\n",
    "        count += 1\n",
    "print(count)"
   ]
  }
 ]
}
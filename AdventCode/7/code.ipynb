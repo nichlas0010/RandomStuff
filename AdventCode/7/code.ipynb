{
 "metadata": {
  "language_info": {
   "codemirror_mode": {
    "name": "ipython",
    "version": 3
   },
   "file_extension": ".py",
   "mimetype": "text/x-python",
   "name": "python",
   "nbconvert_exporter": "python",
   "pygments_lexer": "ipython3",
   "version": "3.8.5-final"
  },
  "orig_nbformat": 2,
  "kernelspec": {
   "name": "python3",
   "display_name": "Python 3"
  }
 },
 "nbformat": 4,
 "nbformat_minor": 2,
 "cells": [
  {
   "source": [
    "##Input Management"
   ],
   "cell_type": "markdown",
   "metadata": {}
  },
  {
   "cell_type": "code",
   "execution_count": 3,
   "metadata": {},
   "outputs": [],
   "source": [
    "f = open('input.txt')\n",
    "bagDict = {}\n",
    "\n",
    "for line in f:\n",
    "    line = line.replace(\".\", \"\").replace(\",\", \"\")\n",
    "    lineArray = line.split(\" \")\n",
    "\n",
    "    currentBag = lineArray[0] + \" \" + lineArray[1]\n",
    "\n",
    "    bagDict[currentBag] = {}\n",
    "\n",
    "    if len(lineArray) <= 7:\n",
    "        continue\n",
    "\n",
    "    for i in range(5, len(lineArray), 4):\n",
    "        bagDict[currentBag][lineArray[i]+\" \"+lineArray[i+1]] = int(lineArray[i-1])\n",
    "\n",
    "f.close()"
   ]
  },
  {
   "source": [
    "##Part 1:"
   ],
   "cell_type": "markdown",
   "metadata": {}
  },
  {
   "cell_type": "code",
   "execution_count": 8,
   "metadata": {},
   "outputs": [
    {
     "output_type": "stream",
     "name": "stdout",
     "text": [
      "235\n"
     ]
    }
   ],
   "source": [
    "searchFor = {\"shiny gold\"}\n",
    "oldSearchFor = {}\n",
    "while searchFor != oldSearchFor:\n",
    "    oldSearchFor = searchFor.copy()\n",
    "    for i in bagDict:\n",
    "        for j in oldSearchFor:\n",
    "            if j in bagDict[i]:\n",
    "                searchFor.add(i)\n",
    "    \n",
    "print(len(searchFor)-1)\n"
   ]
  },
  {
   "source": [
    "##Part 2"
   ],
   "cell_type": "markdown",
   "metadata": {}
  },
  {
   "cell_type": "code",
   "execution_count": 11,
   "metadata": {},
   "outputs": [
    {
     "output_type": "stream",
     "name": "stdout",
     "text": [
      "158493\n"
     ]
    }
   ],
   "source": [
    "def traverse(entry):\n",
    "    x = 0\n",
    "    for i in bagDict[entry]:\n",
    "        x += bagDict[entry][i] * traverse(i)\n",
    "        x += bagDict[entry][i]\n",
    "    return x\n",
    "print(traverse(\"shiny gold\"))"
   ]
  }
 ]
}
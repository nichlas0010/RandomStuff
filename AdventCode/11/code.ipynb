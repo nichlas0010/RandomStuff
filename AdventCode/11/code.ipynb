{
 "metadata": {
  "language_info": {
   "codemirror_mode": {
    "name": "ipython",
    "version": 3
   },
   "file_extension": ".py",
   "mimetype": "text/x-python",
   "name": "python",
   "nbconvert_exporter": "python",
   "pygments_lexer": "ipython3",
   "version": "3.8.5-final"
  },
  "orig_nbformat": 2,
  "kernelspec": {
   "name": "python3",
   "display_name": "Python 3",
   "language": "python"
  }
 },
 "nbformat": 4,
 "nbformat_minor": 2,
 "cells": [
  {
   "source": [
    "##Input Management"
   ],
   "cell_type": "markdown",
   "metadata": {}
  },
  {
   "cell_type": "code",
   "execution_count": 15,
   "metadata": {
    "tags": []
   },
   "outputs": [],
   "source": [
    "f = open('input.txt')\n",
    "\n",
    "#Not general purpose, we know there's 96 columns though\n",
    "coordinateArray = []\n",
    "for i in range(91):\n",
    "    coordinateArray.append([])\n",
    "\n",
    "for i, line in enumerate(f):\n",
    "    for char in line.strip():\n",
    "        coordinateArray[i].append(char)\n",
    "\n",
    "f.close()"
   ]
  },
  {
   "source": [
    "##Part 1:"
   ],
   "cell_type": "markdown",
   "metadata": {}
  },
  {
   "cell_type": "code",
   "execution_count": 9,
   "metadata": {
    "tags": []
   },
   "outputs": [
    {
     "output_type": "stream",
     "name": "stdout",
     "text": [
      "A\nA\nA\nA\nA\nA\n37\n"
     ]
    }
   ],
   "source": [
    "from copy import deepcopy\n",
    "modifyArray = deepcopy(coordinateArray)\n",
    "copyArray = []\n",
    "while modifyArray != copyArray:\n",
    "    copyArray = deepcopy(modifyArray)\n",
    "    print(\"A\")\n",
    "    for row in range(10):\n",
    "        for column in range(10):\n",
    "            if copyArray[row][column] == \".\":\n",
    "                continue\n",
    "\n",
    "            seatsAround = 0\n",
    "            for rowRange in range(max(row-1, 0), min(row+2, 10)):\n",
    "                for columnRange in range(max(column-1, 0), min(column+2, 10)):\n",
    "                    if columnRange == column and rowRange == row:\n",
    "                        continue\n",
    "                    if copyArray[rowRange][columnRange] == \"#\":\n",
    "                        seatsAround += 1\n",
    "            if copyArray[row][column] == \"L\" and seatsAround == 0:\n",
    "                modifyArray[row][column] = \"#\"\n",
    "            if copyArray[row][column] == \"#\" and seatsAround >= 4:\n",
    "                modifyArray[row][column] = \"L\"\n",
    "\n",
    "occupied = 0\n",
    "for i in copyArray:\n",
    "    for j in i:\n",
    "        if j == \"#\":\n",
    "            occupied += 1\n",
    "print(occupied)\n"
   ]
  },
  {
   "source": [
    "##Part 2"
   ],
   "cell_type": "markdown",
   "metadata": {}
  },
  {
   "cell_type": "code",
   "execution_count": 16,
   "metadata": {},
   "outputs": [
    {
     "output_type": "stream",
     "name": "stdout",
     "text": [
      "2039\n"
     ]
    }
   ],
   "source": [
    "from copy import deepcopy\n",
    "modifyArray = deepcopy(coordinateArray)\n",
    "copyArray = []\n",
    "while modifyArray != copyArray:\n",
    "    copyArray = deepcopy(modifyArray)\n",
    "    for row in range(91):\n",
    "        for column in range(96):\n",
    "            if copyArray[row][column] == \".\":\n",
    "                continue\n",
    "\n",
    "            seatsAround = 0\n",
    "\n",
    "            # Up\n",
    "            newRow = row-1\n",
    "            while newRow >= 0:\n",
    "                if copyArray[newRow][column] == \".\":\n",
    "                    newRow -= 1\n",
    "                    continue\n",
    "                if copyArray[newRow][column] == \"#\":\n",
    "                    seatsAround += 1\n",
    "                    break\n",
    "                break\n",
    "\n",
    "            # Up right\n",
    "            newRow = row-1\n",
    "            newColumn = column + 1\n",
    "            while newRow >= 0 and newColumn <= 95:\n",
    "                if copyArray[newRow][newColumn] == \".\":\n",
    "                    newRow -= 1\n",
    "                    newColumn += 1\n",
    "                    continue\n",
    "                if copyArray[newRow][newColumn] == \"#\":\n",
    "                    seatsAround += 1\n",
    "                    break\n",
    "                break\n",
    "\n",
    "            # right\n",
    "            newColumn = column + 1\n",
    "            while newColumn <= 95:\n",
    "                if copyArray[row][newColumn] == \".\":\n",
    "                    newColumn += 1\n",
    "                    continue\n",
    "                if copyArray[row][newColumn] == \"#\":\n",
    "                    seatsAround += 1\n",
    "                    break\n",
    "                break\n",
    "\n",
    "            # down right\n",
    "            newRow = row+1\n",
    "            newColumn = column + 1\n",
    "            while newRow <= 90 and newColumn <= 95:\n",
    "                if copyArray[newRow][newColumn] == \".\":\n",
    "                    newRow += 1\n",
    "                    newColumn += 1\n",
    "                    continue\n",
    "                if copyArray[newRow][newColumn] == \"#\":\n",
    "                    seatsAround += 1\n",
    "                    break\n",
    "                break\n",
    "\n",
    "            # down\n",
    "            newRow = row+1\n",
    "            while newRow <= 90:\n",
    "                if copyArray[newRow][column] == \".\":\n",
    "                    newRow += 1\n",
    "                    continue\n",
    "                if copyArray[newRow][column] == \"#\":\n",
    "                    seatsAround += 1\n",
    "                    break\n",
    "                break\n",
    "\n",
    "            # down left\n",
    "            newRow = row+1\n",
    "            newColumn = column - 1\n",
    "            while newRow <= 90 and newColumn >= 0:\n",
    "                if copyArray[newRow][newColumn] == \".\":\n",
    "                    newRow += 1\n",
    "                    newColumn -= 1\n",
    "                    continue\n",
    "                if copyArray[newRow][newColumn] == \"#\":\n",
    "                    seatsAround += 1\n",
    "                    break\n",
    "                break\n",
    "\n",
    "            # left\n",
    "            newColumn = column - 1\n",
    "            while newColumn >= 0:\n",
    "                if copyArray[row][newColumn] == \".\":\n",
    "                    newColumn -= 1\n",
    "                    continue\n",
    "                if copyArray[row][newColumn] == \"#\":\n",
    "                    seatsAround += 1\n",
    "                    break\n",
    "                break\n",
    "\n",
    "            # top left\n",
    "            newRow = row - 1\n",
    "            newColumn = column - 1\n",
    "            while newRow >= 0 and newColumn >= 0:\n",
    "                if copyArray[newRow][newColumn] == \".\":\n",
    "                    newRow -= 1\n",
    "                    newColumn -= 1\n",
    "                    continue\n",
    "                if copyArray[newRow][newColumn] == \"#\":\n",
    "                    seatsAround += 1\n",
    "                    break\n",
    "                break\n",
    " \n",
    "            if copyArray[row][column] == \"L\" and seatsAround == 0:\n",
    "                modifyArray[row][column] = \"#\"\n",
    "            if copyArray[row][column] == \"#\" and seatsAround >= 5:\n",
    "                modifyArray[row][column] = \"L\"\n",
    "\n",
    "occupied = 0\n",
    "for i in copyArray:\n",
    "    for j in i:\n",
    "        if j == \"#\":\n",
    "            occupied += 1\n",
    "print(occupied)\n"
   ]
  },
  {
   "cell_type": "code",
   "execution_count": null,
   "metadata": {},
   "outputs": [],
   "source": []
  }
 ]
}